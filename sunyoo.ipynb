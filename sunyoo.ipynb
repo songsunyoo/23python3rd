{
  "nbformat": 4,
  "nbformat_minor": 0,
  "metadata": {
    "colab": {
      "provenance": [],
      "authorship_tag": "ABX9TyMre61oJCAl9KPEZtGdw9/4",
      "include_colab_link": true
    },
    "kernelspec": {
      "name": "python3",
      "display_name": "Python 3"
    },
    "language_info": {
      "name": "python"
    }
  },
  "cells": [
    {
      "cell_type": "markdown",
      "metadata": {
        "id": "view-in-github",
        "colab_type": "text"
      },
      "source": [
        "<a href=\"https://colab.research.google.com/github/songsunyoo/23python3rd/blob/main/sunyoo.ipynb\" target=\"_parent\"><img src=\"https://colab.research.google.com/assets/colab-badge.svg\" alt=\"Open In Colab\"/></a>"
      ]
    },
    {
      "cell_type": "code",
      "execution_count": 1,
      "metadata": {
        "colab": {
          "base_uri": "https://localhost:8080/"
        },
        "id": "9nq35Dd50Czu",
        "outputId": "e2e60cf7-3269-4686-ea8e-f953de91e01b"
      },
      "outputs": [
        {
          "output_type": "stream",
          "name": "stdout",
          "text": [
            "2023년 10월 19일 to do list\n",
            "09:10~11:00 컴퓨팅적사고와 기초코딩\n",
            "11:00~12:00 아동건강교육\n",
            "13:00~14:00 점심시간\n",
            "14:00~15:00 컴퓨팅적사고와 기초코딩공부\n",
            "17:00~18:00 저녁밥\n"
          ]
        }
      ],
      "source": [
        "print(\"2023년 10월 19일 to do list\")  # \"2023년 10월 19일 to do list\"를 출력합니다.\n",
        "print(\"09:10~11:00 컴퓨팅적사고와 기초코딩\")  # \"09:10~11:00 컴퓨팅적사고와 기초코딩\"을 출력합니다.\n",
        "print(\"11:00~12:00 아동건강교육\")  # \"11:00~12:00 아동건강교육\"을 출력합니다.\n",
        "print(\"13:00~14:00 점심시간\")  # \"13:00~14:00 점심시간\"을 출력합니다.\n",
        "print(\"14:00~15:00 컴퓨팅적사고와 기초코딩공부\")  # \"14:00~15:00 컴퓨팅적사고와 기초코딩공부\"를 출력합니다.\n",
        "print(\"17:00~18:00 저녁밥\")  # \"17:00~18:00 저녁밥\"을 출력합니다."
      ]
    },
    {
      "cell_type": "markdown",
      "source": [
        "주어진 코드는 시간대와 해당 시간에 해야 할 일을 출력하는 것으로 보입니다. 예를 들어, \"09:10~11:00 컴퓨팅적사고와 기초코딩\"은 9시 10분부터 11시까지 \"컴퓨팅적사고와 기초코딩\" 공부를 해야 함을 나타냅니다."
      ],
      "metadata": {
        "id": "1hWhLEnz1QQD"
      }
    },
    {
      "cell_type": "code",
      "source": [
        "total = 0  # 변수 total을 0으로 초기화합니다.\n",
        "counter = 1  # 변수 counter를 1로 초기화합니다.\n",
        "\n",
        "while counter <= 10:  # counter가 10보다 작거나 같은 동안 반복합니다.\n",
        "    grade = int(input(\"성적을 입력하시오: \"))  # 사용자로부터 성적을 입력받아 변수 grade에 저장합니다.\n",
        "    total = grade + total  # 입력받은 성적을 total에 더합니다.\n",
        "    counter = counter + 1  # counter를 1 증가시킵니다.\n",
        "\n",
        "average = total / 10  # total을 10으로 나눈 값을 변수 average에 저장합니다.\n",
        "print(average)  # 평균을 출력합니다."
      ],
      "metadata": {
        "colab": {
          "base_uri": "https://localhost:8080/"
        },
        "id": "8K56LQW50kiz",
        "outputId": "936483c7-30fa-4503-87c4-5eec4fa19a71"
      },
      "execution_count": null,
      "outputs": [
        {
          "name": "stdout",
          "output_type": "stream",
          "text": [
            "성적을 입력하시오: 50\n"
          ]
        }
      ]
    },
    {
      "cell_type": "markdown",
      "source": [
        "주어진 코드는 다섯 명의 성적을 입력받아 평균을 구하는 프로그램입니다. 반복문(while)과 조건문(if)을 사용하여 구현되었습니다.\n",
        "\n",
        "먼저 total 변수를 0으로 초기화하고, counter 변수를 1로 초기화합니다. 그 후 while 반복문을 사용하여 counter가 10보다 ��거나 같은 동안 아래의 내용을 반복합니다.\n",
        "\n",
        "안쪽의 코드 블록에서는 사용자로부터 성적을 입력받아 grade 변수에 저장합니다. 그리고 입력받은 성적을 total에 더합니다. 그리고 counter를 1 증가시킵니다.\n",
        "\n",
        "반복문이 종료되면 total 변수에는 다섯 명의 성적의 합이 저장되어 있을 것입니다. 이를 10으로 나누어 평균을 계산하여 average 변수에 저장합니다. 마지막으로 average 값을 출력합니다."
      ],
      "metadata": {
        "id": "3m-wHYAf1G-y"
      }
    },
    {
      "cell_type": "code",
      "source": [
        "price = int(input(\"구입금액 입력: \"))  # 사용자로부터 정수형 구입금액을 입력받아 변수 price에 저장합니다.\n",
        "\n",
        "if price >= 100000:  # 만약 price가 100000 이상이면\n",
        "    shipping_cost = 0  # 배송료(shipping_cost)는 0원입니다.\n",
        "else:  # 그렇지 않고\n",
        "    if price >= 20000:  # price가 20000 이상이면\n",
        "        shipping_cost = 3000  # 배송료(shipping_cost)는 3000원입니다.\n",
        "    else:  # 그렇지 않으면\n",
        "        shipping_cost = 5000  # 배송료(shipping_cost)는 5000원입니다.\n",
        "\n",
        "print(f'배송료는 {shipping_cost}원 입니다.')  # F-string을 사용하여 최종 배송료를 출력합니다."
      ],
      "metadata": {
        "id": "T_rLNXFO02gK"
      },
      "execution_count": null,
      "outputs": []
    },
    {
      "cell_type": "markdown",
      "source": [
        "주어진 코드는 구입금액에 따라 배송료를 계산하는 프로그램입니다.\n",
        "\n",
        "먼저 사용자로부터 정수형 구입금액을 입력받아 price 변수에 저장합니다.\n",
        "\n",
        "그 후, if문을 사용하여 구입금액에 따라 배송료를 계산합니다.\n",
        "\n",
        "만약 price가 100000 이상이면 배송료(shipping_cost)는 0원입니다.\n",
        "그렇지 않고, price가 20000 이상이면 배송료(shipping_cost)는 3000원입니다.\n",
        "그렇지 않으면 배송료(shipping_cost)는 5000원입니다.\n",
        "마지막으로 print 함수와 F-string을 사용하여 최종 배송료를 출력합니다.\n",
        "\n",
        "예를 들어, 사용자가 150000을 입력했다면 구입금액이 100000 이상이므로 배송료는 0원입니다. 따라서 \"배송료는 0원입니다.\"라는 메시지가 출력될 것입니다."
      ],
      "metadata": {
        "id": "F7nheEyi1B-U"
      }
    },
    {
      "cell_type": "code",
      "source": [
        "print(\"환영합니다.\" *5)"
      ],
      "metadata": {
        "id": "icqpJnkZ1kKM"
      },
      "execution_count": null,
      "outputs": []
    },
    {
      "cell_type": "markdown",
      "source": [
        "위의 코드를 실행하면 \"환영합니다.\"라는 문자열이 5번 반복되어 출력됩니다. 결과적으로 \"환영합니다.환영합니다.환영합니다.환영합니다.환영합니다.\"라는 문자열이 출력될 것입니다.\n",
        "\n",
        "문자열과 숫자의 곱셈 연산은 해당 문자열을 지정된 횟수만큼 반복하여 새로운 문자열을 생성하는 기능을 가지고 있습니다."
      ],
      "metadata": {
        "id": "guP5vBPY1n1a"
      }
    },
    {
      "cell_type": "markdown",
      "source": [],
      "metadata": {
        "id": "KJOye5zH10aD"
      }
    },
    {
      "cell_type": "code",
      "source": [
        "count = 0  # 변수 count를 0으로 초기화합니다.\n",
        "\n",
        "while count <= 5:  # count가 5보다 작거나 같은 동안 반복합니다.\n",
        "    print(\"(\", count, \")\", \"환영합니다\")  # \"(\", count, \")\", \"환영합니다\"를 출력합니다.\n",
        "    count = count + 1  # count를 1 증가시킵니다."
      ],
      "metadata": {
        "id": "Ovlgr03q19N7"
      },
      "execution_count": null,
      "outputs": []
    },
    {
      "cell_type": "markdown",
      "source": [
        "주어진 코드에서는 while 반복문을 사용하여 count 변수가 5보다 작거나 같은 동안 아래의 내용을 반복합니다.\n",
        "\n",
        "안쪽의 코드 블록에서는 \"(\", count, \")\", \"환영합니다\"를 출력합니다. count는 반복할 때마다 1씩 증가합니다.\n",
        "\n",
        "따라서 위의 코드를 실행하면 \"( 0 ) 환영합니다\", \"( 1 ) 환영합니다\", \"( 2 ) 환영합니다\", \"( 3 ) 환영합니다\", \"( 4 ) 환영합니다\", \"( 5 ) 환영합니다\"라는 메시지가 출력될 것입니다."
      ],
      "metadata": {
        "id": "us8d1ivf2G2L"
      }
    },
    {
      "cell_type": "code",
      "source": [
        "x = 0  # 변수 x를 0으로 초기화합니다.\n",
        "\n",
        "while x < 10:  # x가 10보다 작은 동안 반복합니다.\n",
        "    #print(x)  # x를 출력합니다.\n",
        "    print(x, end=' ')  # x를 출력하고 공백 문자로 끝을 나타냅니다.\n",
        "    x = x + 1  # x를 1 증가시킵니다."
      ],
      "metadata": {
        "id": "8di0VZ2e2Hyz"
      },
      "execution_count": null,
      "outputs": []
    },
    {
      "cell_type": "markdown",
      "source": [
        "주어진 코드에서는 while 반복문을 사용하여 x 변수가 10보다 작은 동안 아래의 내용을 반복합니다.\n",
        "\n",
        "안쪽의 코드 블록에서는 주석 처리된 print(x) 대신 print(x, end=' ')를 사용하여 x를 출력하고 공백 문자로 끝을 나타냅니다. 그리고 x를 1씩 증가시킵니다.\n",
        "\n",
        "따라서 위의 코드를 실행하면 0부터 9까지의 숫자가 공백 문자와 함께 한 줄로 출력될 것입니다. 예를 들어, \"0 1 2 3 4 5 6 7 8 9\"라는 결과가 출력될 것입니다."
      ],
      "metadata": {
        "id": "XBoq_-A52PPM"
      }
    },
    {
      "cell_type": "markdown",
      "source": [],
      "metadata": {
        "id": "pXanbZNP2WJz"
      }
    },
    {
      "cell_type": "code",
      "source": [
        "x = 1  # 변수 x를 1로 초기화합니다.\n",
        "total = 0  # 변수 total을 0으로 초기화합니다.\n",
        "\n",
        "while x <= 10:  # x가 10보다 작거나 같은 동안 반복합니다.\n",
        "    total += x  # total에 x를 더합니다.\n",
        "    #total = total + x  # total에 x를 더합니다.\n",
        "    #x = x + 1  # x를 1 증가시킵니다.\n",
        "    x += 1  # x를 1 증가시킵니다.\n",
        "    print(total)  # total을 출력합니다."
      ],
      "metadata": {
        "id": "x0n-IQEh2jQK"
      },
      "execution_count": null,
      "outputs": []
    },
    {
      "cell_type": "markdown",
      "source": [
        "주어진 코드에서는 while 반복문을 사용하여 x 변수가 10보다 작거나 같은 동안 아래의 내용을 반복합니다.\n",
        "\n",
        "안쪽의 코드 블록에서는 total 변수에 x를 더합니다. total += x는 total = total + x와 동일한 의미입니다. 그리고 x를 1 증가시킵니다. 마지막으로 total 값을 출력합니다.\n",
        "\n",
        "따라서 위의 코드를 실행하면 반복할 때마다 total 변수에 1부터 10까지의 숫자가 누적하여 더해지며, 그 값을 출력할 것입니다. 예를 들어, 1, 3, 6, 10, 15, ..., 55라는 결과가 출력될 것입니다."
      ],
      "metadata": {
        "id": "M4m_khv_2kyr"
      }
    },
    {
      "cell_type": "code",
      "source": [
        "total = 0  # 변수 total을 0으로 초기화합니다.\n",
        "counter = 1  # 변수 counter을 1로 초기화합니다.\n",
        "\n",
        "while counter <= 5:  # counter가 5보다 작거나 같은 동안 반복합니다.\n",
        "    grade = int(input(\"성적을 입력하시오: \"))  # 사용자로부터 성적을 입력받아 변수 grade에 저장합니다.\n",
        "    total = total + grade  # total에 입력받은 성적을 더합니다.\n",
        "    counter = counter + 1  # counter를 1 증가시킵니다.\n",
        "\n",
        "average = total / 5  # total을 5로 나누어 평균을 구합니다.\n",
        "print(\"평균 성적은\", average, \"입니다.\")  # 평균 성적을 출력합니다."
      ],
      "metadata": {
        "id": "3W4cK0y83Oeb"
      },
      "execution_count": null,
      "outputs": []
    },
    {
      "cell_type": "markdown",
      "source": [
        "주어진 코드에서는 반복문과 조건문을 사용하여 5명의 성적을 입력받고, 입력받은 성적을 합산하여 평균을 구하는 프로그램입니다.\n",
        "\n",
        "먼저 변수 total과 counter를 각각 0과 1로 초기화합니다.\n",
        "\n",
        "while 반복문을 사용하여 counter가 5보다 작거나 같은 동안 아래의 내용을 반복합니다.\n",
        "\n",
        "사용자로부터 성적을 입력받아 grade 변수에 저장합니다.\n",
        "total에 입력받은 성적을 더합니다.\n",
        "counter를 1 증가시킵니다.\n",
        "반복이 완료되면 total 변수에는 5명의 성적이 합산되어 있습니다. 이를 이용하여 average 변수에 평균 성적을 계산합니다. 여기서는 5로 나누어 평균을 구합니다.\n",
        "\n",
        "마지막으로 평균 성적을 출력합니다."
      ],
      "metadata": {
        "id": "-XHZbANv3Y27"
      }
    },
    {
      "cell_type": "code",
      "source": [
        "print(\"상품의 가격을 입력하시오\")\n",
        "price = int(input('상품의 가격: '))\n",
        "vat = price * 0.1\n",
        "print(vat)\n",
        "print(f'상품의 가격은 {price}이며, 부가세는 {vat}입니다. ')"
      ],
      "metadata": {
        "id": "Wj2rSqiD3ZtW"
      },
      "execution_count": null,
      "outputs": []
    },
    {
      "cell_type": "markdown",
      "source": [
        "프로그램 실행 시 \"상품의 가격을 입력하시오\"라는 문구가 출력됩니다. 사용자로부터 상품의 가격을 입력받아 price 변수에 저장합니다.\n",
        "\n",
        "vat 변수에는 price에 0.1을 곱한 값인 부가세가 저장됩니다. 이후 vat 값을 출력합니다.\n",
        "\n",
        "마지막으로 f-string을 사용하여 상품의 가격과 부가세를 함께 출력합니다.\n",
        "\n",
        "예를 들어, 상품의 가격으로 100을 입력하면 10이 부가세로 계산되어 출력됩니다. 또한, \"상품의 가격은 100이며, 부가세는 10입니다.\"라는 메시지가 출력됩니다."
      ],
      "metadata": {
        "id": "yf8nl2y24cst"
      }
    },
    {
      "cell_type": "code",
      "source": [],
      "metadata": {
        "id": "Tn8dUDUI4gHy"
      },
      "execution_count": null,
      "outputs": []
    }
  ]
}
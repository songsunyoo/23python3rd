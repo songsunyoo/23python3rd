{
  "nbformat": 4,
  "nbformat_minor": 0,
  "metadata": {
    "colab": {
      "provenance": [],
      "authorship_tag": "ABX9TyNNJ+ArUQQCXhJILUFxS7YW",
      "include_colab_link": true
    },
    "kernelspec": {
      "name": "python3",
      "display_name": "Python 3"
    },
    "language_info": {
      "name": "python"
    }
  },
  "cells": [
    {
      "cell_type": "markdown",
      "metadata": {
        "id": "view-in-github",
        "colab_type": "text"
      },
      "source": [
        "<a href=\"https://colab.research.google.com/github/songsunyoo/23python3rd/blob/main/calender_py.ipynb\" target=\"_parent\"><img src=\"https://colab.research.google.com/assets/colab-badge.svg\" alt=\"Open In Colab\"/></a>"
      ]
    },
    {
      "cell_type": "code",
      "execution_count": 2,
      "metadata": {
        "colab": {
          "base_uri": "https://localhost:8080/"
        },
        "id": "hvqGliWYZETw",
        "outputId": "d004df7a-c148-4f9f-a84b-d1e4a62c0b85"
      },
      "outputs": [
        {
          "output_type": "stream",
          "name": "stdout",
          "text": [
            "    October 2023\n",
            "Mo Tu We Th Fr Sa Su\n",
            "                   1\n",
            " 2  3  4  5  6  7  8\n",
            " 9 10 11 12 13 14 15\n",
            "16 17 18 19 20 21 22\n",
            "23 24 25 26 27 28 29\n",
            "30 31\n",
            "\n"
          ]
        }
      ],
      "source": [
        "import calendar\n",
        "yy = 2023\n",
        "mm = 10\n",
        "print (calendar.month(yy,mm))\n"
      ]
    },
    {
      "cell_type": "markdown",
      "source": [
        "2023년 10월 19일\n",
        "- 09:10~11;00 컴퓨팅적사고와 기초코딩\n",
        "- 11;00~12:00 아동건강교육\n",
        "- 13:00~14:00 점심시간\n",
        "- 14:00~17:00 컴퓨팅적사고와 기초코딩 및 모던팝이야기 시험공부\n",
        "- 17:00~18:00 저녁밥"
      ],
      "metadata": {
        "id": "Gylu3UoWatfX"
      }
    },
    {
      "cell_type": "code",
      "source": [
        "print(\"2023년 10월 19일 to do list\")\n",
        "print(\"09:10~11:00 컴퓨팅적사고와 기초코딩\")\n",
        "print(\"11:00~12:00 아동건강교육\")\n",
        "print(\"13:00~14:00 점심시간\")\n",
        "print(\"14:00~15:00 컴퓨팅적사고와 기초코딩공부\")\n",
        "print(\"17:00~18:00 저녁밥\")"
      ],
      "metadata": {
        "colab": {
          "base_uri": "https://localhost:8080/"
        },
        "id": "ICiD9uBgd-A_",
        "outputId": "b376ba84-3966-40b7-f229-4fd3014d56de"
      },
      "execution_count": 5,
      "outputs": [
        {
          "output_type": "stream",
          "name": "stdout",
          "text": [
            "2023년 10월 19일 to do list\n",
            "09:10~11:00 컴퓨팅적사고와 기초코딩\n",
            "11:00~12:00 아동건강교육\n",
            "13:00~14:00 점심시간\n",
            "14:00~15:00 컴퓨팅적사고와 기초코딩공부\n",
            "17:00~18:00 저녁밥\n"
          ]
        }
      ]
    }
  ]
}
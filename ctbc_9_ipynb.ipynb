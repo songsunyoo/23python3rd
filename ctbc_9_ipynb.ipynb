{
  "nbformat": 4,
  "nbformat_minor": 0,
  "metadata": {
    "colab": {
      "provenance": [],
      "authorship_tag": "ABX9TyOjmF0LuvV4udFwE+uMXDod",
      "include_colab_link": true
    },
    "kernelspec": {
      "name": "python3",
      "display_name": "Python 3"
    },
    "language_info": {
      "name": "python"
    }
  },
  "cells": [
    {
      "cell_type": "markdown",
      "metadata": {
        "id": "view-in-github",
        "colab_type": "text"
      },
      "source": [
        "<a href=\"https://colab.research.google.com/github/songsunyoo/23python3rd/blob/main/ctbc_9_ipynb.ipynb\" target=\"_parent\"><img src=\"https://colab.research.google.com/assets/colab-badge.svg\" alt=\"Open In Colab\"/></a>"
      ]
    },
    {
      "cell_type": "markdown",
      "source": [
        "1. 두가지 이상의 선택, 다방향 선택구조 코딩\n",
        " - 배송료 처리 3가지로 코딩\n",
        "  - 변수 : price\n",
        "  - 조건 : 10만원 이상은 배송비 0, 2만원이상은 3천원, 2만원 이하면 5천원\n"
      ],
      "metadata": {
        "id": "dUQVjvGerU36"
      }
    },
    {
      "cell_type": "code",
      "source": [
        "price = int(input(\"구입금액 입력: \"))            # 변수 price 사용자가 정수형 금액입력\n",
        "if price >= 100000:           #price의 값이 10만원보다 크거나 같으면\n",
        "  shipping_cost = 0    # 선택1. 배송료(shipping_cost)는 0원\n",
        "else:          #그게 아니면\n",
        "  if price >= 20000:             # 선택2. price값이 2만원보다 크거나 같으면\n",
        "    shipping_cost = 3000         #  배송료(shipping_cost)는 3000원\n",
        "  else:         #그것도 아니면\n",
        "    shipping_cost = 5000           #선택3. 배송료(shipping_cost)는 5000원\n",
        "  print(f'배송료는{shipping_cost}원 입니다')  # F-string문자 Foma으로 최종 배송출력"
      ],
      "metadata": {
        "colab": {
          "base_uri": "https://localhost:8080/"
        },
        "id": "znVedT-Jsa8F",
        "outputId": "fbf63e90-26b0-45be-fcac-e08e7d472698"
      },
      "execution_count": null,
      "outputs": [
        {
          "output_type": "stream",
          "name": "stdout",
          "text": [
            "구입금액 입력: 25000\n",
            "배송료는3000원 입니다\n"
          ]
        }
      ]
    },
    {
      "cell_type": "markdown",
      "source": [
        "2. 반복구조를 이요한 \"환영합니다.\"를 5번 출력하는 코드작성\n",
        "  - 변수 Welcome\n",
        "  - 출력내용 : 환영합니다.를 세로로 5번,10번,30번"
      ],
      "metadata": {
        "id": "cFIn-4A3yq3G"
      }
    },
    {
      "cell_type": "code",
      "source": [
        "print(\"환영합니다.\")\n",
        "print(\"환영합니다.\")\n",
        "print(\"환영합니다.\")\n",
        "print(\"환영합니다.\")\n",
        "print(\"환영합니다.\")"
      ],
      "metadata": {
        "colab": {
          "base_uri": "https://localhost:8080/"
        },
        "id": "Mz4CWSPqzBin",
        "outputId": "c7266bb6-6819-412e-ab7e-ee6f8b208c96"
      },
      "execution_count": null,
      "outputs": [
        {
          "output_type": "stream",
          "name": "stdout",
          "text": [
            "환영합니다.\n",
            "환영합니다.\n",
            "환영합니다.\n",
            "환영합니다.\n",
            "환영합니다.\n"
          ]
        }
      ]
    },
    {
      "cell_type": "code",
      "source": [
        "print(\"환영합니다.\" *5)"
      ],
      "metadata": {
        "colab": {
          "base_uri": "https://localhost:8080/"
        },
        "id": "__ILSooZzQOv",
        "outputId": "98b90d73-d3e6-47d9-99e3-d4ebdc539070"
      },
      "execution_count": null,
      "outputs": [
        {
          "output_type": "stream",
          "name": "stdout",
          "text": [
            "환영합니다.환영합니다.환영합니다.환영합니다.환영합니다.\n"
          ]
        }
      ]
    },
    {
      "cell_type": "code",
      "source": [
        "count = 0\n",
        "while count <= 5:\n",
        "  print(\"(\",count, \")\",\"환영합니다\")\n",
        "  count = count + 1"
      ],
      "metadata": {
        "colab": {
          "base_uri": "https://localhost:8080/"
        },
        "id": "qquPfsk_zpNf",
        "outputId": "694a5c1d-3f04-4956-b06d-4e3e69066101"
      },
      "execution_count": null,
      "outputs": [
        {
          "output_type": "stream",
          "name": "stdout",
          "text": [
            "( 0 ) 환영합니다\n",
            "( 1 ) 환영합니다\n",
            "( 2 ) 환영합니다\n",
            "( 3 ) 환영합니다\n",
            "( 4 ) 환영합니다\n",
            "( 5 ) 환영합니다\n"
          ]
        }
      ]
    },
    {
      "cell_type": "code",
      "source": [
        "x = 0\n",
        "while x < 10:\n",
        "  #print(x)\n",
        "  print(x, end=' ')\n",
        "  x = x + 1"
      ],
      "metadata": {
        "colab": {
          "base_uri": "https://localhost:8080/"
        },
        "id": "gx10Sgcc1puJ",
        "outputId": "6dccd041-312a-4cc1-a395-9832085a8a41"
      },
      "execution_count": null,
      "outputs": [
        {
          "output_type": "stream",
          "name": "stdout",
          "text": [
            "0 1 2 3 4 5 6 7 8 9 "
          ]
        }
      ]
    },
    {
      "cell_type": "code",
      "source": [
        "x = 1\n",
        "total = 0\n",
        "while x <= 10:\n",
        "  total +=x\n",
        "  #total = total +x\n",
        "  #x = x + 1\n",
        "  x += 1\n",
        "  print(total)"
      ],
      "metadata": {
        "colab": {
          "base_uri": "https://localhost:8080/"
        },
        "id": "ia0tHRRe3Hex",
        "outputId": "96b26310-5b7e-4586-aae8-d9dc36e58cb5"
      },
      "execution_count": null,
      "outputs": [
        {
          "output_type": "stream",
          "name": "stdout",
          "text": [
            "1\n",
            "3\n",
            "6\n",
            "10\n",
            "15\n",
            "21\n",
            "28\n",
            "36\n",
            "45\n",
            "55\n"
          ]
        }
      ]
    },
    {
      "cell_type": "code",
      "source": [],
      "metadata": {
        "id": "Jv7tRIxw33KC"
      },
      "execution_count": null,
      "outputs": []
    }
  ]
}